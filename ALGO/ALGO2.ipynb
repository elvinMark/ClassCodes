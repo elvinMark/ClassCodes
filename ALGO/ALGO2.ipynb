{
 "cells": [
  {
   "cell_type": "markdown",
   "metadata": {},
   "source": [
    "# Algorithms and Data Structure - Algorithms and Computional Complexity\n",
    "\n",
    "## What is an algorithm?\n",
    "To put it simply, an algorithm is sequence of steps or procedures used to solve a problem\n",
    "\n",
    "## What are the conditions for a correct algorithm\n",
    "- No matter what input you used for the algorithm, the algorithm should not give you a wrong answer. In other words, if this algorithm outputs an answer, that answer should be correct.\n",
    "- The algorithm should output an answer in finite time.\n",
    "\n",
    "## Let's see an example\n",
    "\n",
    "Let's an example of an algorithm. The greatest common divisor problem (GCD). There is a famous algorithm to solve this problem which was given by Euclid. This algorithm can be stated as follows:\n",
    "\n",
    "**Let a and b be two integers such that a>b, the rest of dividing a and b is r, in other words r = a%b. The GCD of a and b is the same as the GCD of b and r. We calculate r ,the rest of dividing a and b, and then calculate the GCD of b and. We repeat this until the rest is 0. The resulting GCD will be b.**\n",
    "\n",
    "### Let's see what are going to be the steps for this algorithm\n",
    "\n",
    "- Step 1: Divide a and b, and calculate the rest r.\n",
    "- Step 2: if r=0 then finish the algorithm and the GCD will be the current value of b.\n",
    "- Step 3: For the next iteration, make a <- b and b <- r. Go back to Step 1.\n",
    "\n",
    "### Let's see how it would be coded in C\n",
    "### Iterative method\n",
    "```c\n",
    "int gcd_iterative(int a,int b){\n",
    "    int a0,b0,r;\n",
    "    a0 = a;\n",
    "    b0 = b;\n",
    "    r = a%b;\n",
    "    while(r != 0){\n",
    "        a0 = b0;\n",
    "\tb0 = r;\n",
    "        r = a0%b0;\n",
    "    }\n",
    "    return b0;\n",
    "}\n",
    "```\n",
    "```c\n",
    "int gcd_recursive(int a,int b){\n",
    "    if(b==0)\n",
    "        return a;\n",
    "    return gcd_recursive(b,a%b);\n",
    "}\n",
    "```"
   ]
  },
  {
   "cell_type": "code",
   "execution_count": 9,
   "metadata": {},
   "outputs": [
    {
     "name": "stdout",
     "output_type": "stream",
     "text": [
      "GCD recursive:  10\n",
      "GCD iterative:  10\n"
     ]
    }
   ],
   "source": [
    "def gcd_iterative(a,b):\n",
    "    a0 = a\n",
    "    b0 = b\n",
    "    r = a%b\n",
    "    while r!=0 :\n",
    "        a0 = b0\n",
    "        b0 = r\n",
    "        r = a0%b0\n",
    "    return b0\n",
    "\n",
    "def gcd_recursive(a,b):\n",
    "    if b==0 :\n",
    "        return a\n",
    "    return gcd_recursive(b,a%b)\n",
    "print(\"GCD recursive: \",gcd_recursive(100,30))\n",
    "print(\"GCD iterative: \",gcd_iterative(100,30))"
   ]
  },
  {
   "cell_type": "markdown",
   "metadata": {},
   "source": [
    "## Analysis of Algorithms\n",
    "We can analyze the computation time by calculating the total number of steps exectuted. Of course, the number of steps can be the same but the computation time can vary depending on the programming language. We don't need exactly the number of steps but an approximated number is enough.\n",
    "\n",
    "### For example: Linear Search\n"
   ]
  }
 ],
 "metadata": {
  "kernelspec": {
   "display_name": "Python 3",
   "language": "python",
   "name": "python3"
  },
  "language_info": {
   "codemirror_mode": {
    "name": "ipython",
    "version": 3
   },
   "file_extension": ".py",
   "mimetype": "text/x-python",
   "name": "python",
   "nbconvert_exporter": "python",
   "pygments_lexer": "ipython3",
   "version": "3.6.9"
  }
 },
 "nbformat": 4,
 "nbformat_minor": 2
}
